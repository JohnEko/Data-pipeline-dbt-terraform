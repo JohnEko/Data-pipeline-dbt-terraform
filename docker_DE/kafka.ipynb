{
 "cells": [
  {
   "cell_type": "code",
   "execution_count": 1,
   "id": "0a12336f",
   "metadata": {},
   "outputs": [],
   "source": [
    "import json"
   ]
  },
  {
   "cell_type": "code",
   "execution_count": 5,
   "id": "80a9947b",
   "metadata": {},
   "outputs": [
    {
     "name": "stdout",
     "output_type": "stream",
     "text": [
      "Requirement already satisfied: pip in c:\\python\\lib\\site-packages (23.0.1)Note: you may need to restart the kernel to use updated packages.\n",
      "\n",
      "Collecting pip\n",
      "  Downloading pip-23.2.1-py3-none-any.whl (2.1 MB)\n",
      "     ---------------------------------------- 0.0/2.1 MB ? eta -:--:--\n",
      "     ---------- ----------------------------- 0.5/2.1 MB 8.4 MB/s eta 0:00:01\n",
      "     ----------------------- ---------------- 1.2/2.1 MB 7.9 MB/s eta 0:00:01\n",
      "     -------------------------------- ------- 1.7/2.1 MB 7.1 MB/s eta 0:00:01\n",
      "     --------------------------------- ------ 1.7/2.1 MB 6.5 MB/s eta 0:00:01\n",
      "     ---------------------------------------  2.1/2.1 MB 6.6 MB/s eta 0:00:01\n",
      "     ---------------------------------------  2.1/2.1 MB 6.6 MB/s eta 0:00:01\n",
      "     ---------------------------------------- 2.1/2.1 MB 5.3 MB/s eta 0:00:00\n",
      "Installing collected packages: pip\n",
      "  Attempting uninstall: pip\n",
      "    Found existing installation: pip 23.0.1\n",
      "    Uninstalling pip-23.0.1:\n",
      "      Successfully uninstalled pip-23.0.1\n",
      "Successfully installed pip-23.2.1\n"
     ]
    },
    {
     "name": "stderr",
     "output_type": "stream",
     "text": [
      "WARNING: Ignoring invalid distribution -ip (c:\\python\\lib\\site-packages)\n",
      "WARNING: Ignoring invalid distribution -ip (c:\\python\\lib\\site-packages)\n",
      "WARNING: Ignoring invalid distribution -ip (c:\\python\\lib\\site-packages)\n",
      "    WARNING: Ignoring invalid distribution -ip (c:\\python\\lib\\site-packages)\n",
      "WARNING: Ignoring invalid distribution -ip (c:\\python\\lib\\site-packages)\n",
      "WARNING: Ignoring invalid distribution -ip (c:\\python\\lib\\site-packages)\n",
      "WARNING: Ignoring invalid distribution -ip (c:\\python\\lib\\site-packages)\n",
      "WARNING: Ignoring invalid distribution -ip (c:\\python\\lib\\site-packages)\n"
     ]
    }
   ],
   "source": [
    " pip install --upgrade pip"
   ]
  },
  {
   "cell_type": "code",
   "execution_count": 3,
   "id": "053eba91",
   "metadata": {},
   "outputs": [
    {
     "name": "stdout",
     "output_type": "stream",
     "text": [
      "Collecting kafka-python\n",
      "  Downloading kafka_python-2.0.2-py2.py3-none-any.whl (246 kB)\n",
      "     ---------------------------------------- 0.0/246.5 kB ? eta -:--:--\n",
      "     ------------------------------------  245.8/246.5 kB 15.7 MB/s eta 0:00:01\n",
      "     ------------------------------------  245.8/246.5 kB 15.7 MB/s eta 0:00:01\n",
      "     -------------------------------------- 246.5/246.5 kB 2.2 MB/s eta 0:00:00\n",
      "Installing collected packages: kafka-python\n",
      "Successfully installed kafka-python-2.0.2\n",
      "Note: you may need to restart the kernel to use updated packages.\n"
     ]
    },
    {
     "name": "stderr",
     "output_type": "stream",
     "text": [
      "WARNING: Ignoring invalid distribution -ip (c:\\python\\lib\\site-packages)\n",
      "WARNING: Ignoring invalid distribution -ip (c:\\python\\lib\\site-packages)\n",
      "WARNING: Ignoring invalid distribution -ip (c:\\python\\lib\\site-packages)\n",
      "WARNING: Ignoring invalid distribution -ip (c:\\python\\lib\\site-packages)\n",
      "WARNING: Ignoring invalid distribution -ip (c:\\python\\lib\\site-packages)\n",
      "WARNING: Ignoring invalid distribution -ip (c:\\python\\lib\\site-packages)\n",
      "WARNING: Ignoring invalid distribution -ip (c:\\python\\lib\\site-packages)\n",
      "\n",
      "[notice] A new release of pip is available: 23.0.1 -> 23.2.1\n",
      "[notice] To update, run: python.exe -m pip install --upgrade pip\n"
     ]
    }
   ],
   "source": [
    "pip install kafka-python"
   ]
  },
  {
   "cell_type": "code",
   "execution_count": 6,
   "id": "0232cb08",
   "metadata": {
    "scrolled": true
   },
   "outputs": [],
   "source": [
    "import pandas as pd\n",
    "from kafka import KafkaConsumer, KafkaProducer\n",
    "from time import sleep\n",
    "from json import dumps\n",
    "import json\n"
   ]
  },
  {
   "cell_type": "code",
   "execution_count": 7,
   "id": "95121380",
   "metadata": {},
   "outputs": [
    {
     "ename": "AssertionError",
     "evalue": "Unrecognized configs: {'boostarp_server': ['localhost:9092']}",
     "output_type": "error",
     "traceback": [
      "\u001b[1;31m---------------------------------------------------------------------------\u001b[0m",
      "\u001b[1;31mAssertionError\u001b[0m                            Traceback (most recent call last)",
      "Cell \u001b[1;32mIn[7], line 1\u001b[0m\n\u001b[1;32m----> 1\u001b[0m producer \u001b[38;5;241m=\u001b[39m \u001b[43mKafkaProducer\u001b[49m\u001b[43m(\u001b[49m\u001b[43mboostarp_server\u001b[49m\u001b[38;5;241;43m=\u001b[39;49m\u001b[43m[\u001b[49m\u001b[38;5;124;43m'\u001b[39;49m\u001b[38;5;124;43mlocalhost:9092\u001b[39;49m\u001b[38;5;124;43m'\u001b[39;49m\u001b[43m]\u001b[49m\u001b[43m,\u001b[49m\n\u001b[0;32m      2\u001b[0m \u001b[43m                         \u001b[49m\u001b[43mvalue_serializer\u001b[49m\u001b[43m \u001b[49m\u001b[38;5;241;43m=\u001b[39;49m\u001b[43m \u001b[49m\u001b[38;5;28;43;01mlambda\u001b[39;49;00m\u001b[43m \u001b[49m\u001b[43mk\u001b[49m\u001b[43m:\u001b[49m\n\u001b[0;32m      3\u001b[0m \u001b[43m                         \u001b[49m\u001b[43mdumps\u001b[49m\u001b[43m(\u001b[49m\u001b[43mk\u001b[49m\u001b[43m)\u001b[49m\u001b[38;5;241;43m.\u001b[39;49m\u001b[43mencode\u001b[49m\u001b[43m(\u001b[49m\u001b[38;5;124;43m'\u001b[39;49m\u001b[38;5;124;43mutf-8\u001b[39;49m\u001b[38;5;124;43m'\u001b[39;49m\u001b[43m)\u001b[49m\n\u001b[0;32m      4\u001b[0m \u001b[43m                        \u001b[49m\n\u001b[0;32m      5\u001b[0m \u001b[43m                        \u001b[49m\n\u001b[0;32m      6\u001b[0m \u001b[43m                        \u001b[49m\u001b[43m)\u001b[49m\n",
      "File \u001b[1;32mC:\\Python\\lib\\site-packages\\kafka\\producer\\kafka.py:354\u001b[0m, in \u001b[0;36mKafkaProducer.__init__\u001b[1;34m(self, **configs)\u001b[0m\n\u001b[0;32m    351\u001b[0m         \u001b[38;5;28mself\u001b[39m\u001b[38;5;241m.\u001b[39mconfig[key] \u001b[38;5;241m=\u001b[39m configs\u001b[38;5;241m.\u001b[39mpop(key)\n\u001b[0;32m    353\u001b[0m \u001b[38;5;66;03m# Only check for extra config keys in top-level class\u001b[39;00m\n\u001b[1;32m--> 354\u001b[0m \u001b[38;5;28;01massert\u001b[39;00m \u001b[38;5;129;01mnot\u001b[39;00m configs, \u001b[38;5;124m'\u001b[39m\u001b[38;5;124mUnrecognized configs: \u001b[39m\u001b[38;5;132;01m%s\u001b[39;00m\u001b[38;5;124m'\u001b[39m \u001b[38;5;241m%\u001b[39m (configs,)\n\u001b[0;32m    356\u001b[0m \u001b[38;5;28;01mif\u001b[39;00m \u001b[38;5;28mself\u001b[39m\u001b[38;5;241m.\u001b[39mconfig[\u001b[38;5;124m'\u001b[39m\u001b[38;5;124mclient_id\u001b[39m\u001b[38;5;124m'\u001b[39m] \u001b[38;5;129;01mis\u001b[39;00m \u001b[38;5;28;01mNone\u001b[39;00m:\n\u001b[0;32m    357\u001b[0m     \u001b[38;5;28mself\u001b[39m\u001b[38;5;241m.\u001b[39mconfig[\u001b[38;5;124m'\u001b[39m\u001b[38;5;124mclient_id\u001b[39m\u001b[38;5;124m'\u001b[39m] \u001b[38;5;241m=\u001b[39m \u001b[38;5;124m'\u001b[39m\u001b[38;5;124mkafka-python-producer-\u001b[39m\u001b[38;5;132;01m%s\u001b[39;00m\u001b[38;5;124m'\u001b[39m \u001b[38;5;241m%\u001b[39m \\\n\u001b[0;32m    358\u001b[0m                                (PRODUCER_CLIENT_ID_SEQUENCE\u001b[38;5;241m.\u001b[39mincrement(),)\n",
      "\u001b[1;31mAssertionError\u001b[0m: Unrecognized configs: {'boostarp_server': ['localhost:9092']}"
     ]
    }
   ],
   "source": [
    "producer = KafkaProducer(boostarp_server=['localhost:9092'],\n",
    "                         value_serializer = lambda k:\n",
    "                         dumps(k).encode('utf-8')\n",
    "                        \n",
    "                        \n",
    "                        )"
   ]
  },
  {
   "cell_type": "code",
   "execution_count": null,
   "id": "dde02bb5",
   "metadata": {},
   "outputs": [],
   "source": [
    "producer.send(\"product-hunt\", value=\"{'hello': 'world'}\")"
   ]
  },
  {
   "cell_type": "code",
   "execution_count": null,
   "id": "1946b90f",
   "metadata": {},
   "outputs": [],
   "source": []
  },
  {
   "cell_type": "code",
   "execution_count": null,
   "id": "cb79219c",
   "metadata": {},
   "outputs": [],
   "source": []
  },
  {
   "cell_type": "code",
   "execution_count": null,
   "id": "95a98411",
   "metadata": {},
   "outputs": [],
   "source": []
  },
  {
   "cell_type": "code",
   "execution_count": null,
   "id": "8dacd4d0",
   "metadata": {},
   "outputs": [],
   "source": []
  },
  {
   "cell_type": "code",
   "execution_count": null,
   "id": "bc46e3d9",
   "metadata": {},
   "outputs": [],
   "source": []
  }
 ],
 "metadata": {
  "kernelspec": {
   "display_name": "Python 3 (ipykernel)",
   "language": "python",
   "name": "python3"
  },
  "language_info": {
   "codemirror_mode": {
    "name": "ipython",
    "version": 3
   },
   "file_extension": ".py",
   "mimetype": "text/x-python",
   "name": "python",
   "nbconvert_exporter": "python",
   "pygments_lexer": "ipython3",
   "version": "3.10.0"
  }
 },
 "nbformat": 4,
 "nbformat_minor": 5
}
